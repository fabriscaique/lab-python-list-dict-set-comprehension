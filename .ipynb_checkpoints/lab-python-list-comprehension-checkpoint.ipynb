{
 "cells": [
  {
   "cell_type": "markdown",
   "id": "25d7736c-ba17-4aff-b6bb-66eba20fbf4e",
   "metadata": {},
   "source": [
    "# Lab | List, Dict and Set Comprehension"
   ]
  },
  {
   "cell_type": "markdown",
   "id": "7dd3cbde-675a-4b81-92c3-f728846dbe06",
   "metadata": {},
   "source": [
    "## Exercise: Managing Customer Orders Optimized with Comprehension"
   ]
  },
  {
   "cell_type": "markdown",
   "id": "5d500160-2fb7-4777-b5e4-09d45ebaf328",
   "metadata": {},
   "source": [
    "In the previous exercise, you developed a program to manage customer orders and inventory. Now, let's take it a step further and incorporate comprehension into your code.\n",
    "\n",
    "Follow the steps below to complete the exercise:\n",
    "\n",
    "1. Review your code from the previous exercise and identify areas where you can apply comprehension to simplify and streamline your code. \n",
    "\n",
    "    - *Hint: Apply it to initialize inventory, updating the inventory and printing the updated inventory.*\n",
    "    \n",
    "    - For example, in initializing the inventory, we could have:\n",
    "    \n",
    "        ```python\n",
    "        def initialize_inventory(products):\n",
    "            inventory = {product: int(input(f\"Enter the quantity of {product}s available: \")) for product in products}\n",
    "            return inventory\n",
    "\n",
    "        ```\n",
    "<br>\n",
    "    \n",
    "    \n",
    "2. Modify the function get_customer_orders so it prompts the user to enter the number of customer orders and gathers the product names using a loop and user input. Use comprehension.\n",
    "\n",
    "3. Add a new function to calculate the total price of the customer order. For each product in customer_orders, prompt the user to enter the price of that product. Use comprehension to calculate the total price. Note: assume that the user can only have 1 unit of each product.\n",
    "\n",
    "4. Modify the update_inventory function to remove the product from the inventory if its quantity becomes zero after fulfilling the customer orders. Use comprehension to filter out the products with a quantity of zero from the inventory.\n",
    "\n",
    "5. Print the total price of the customer order.\n",
    "\n",
    "Your code should produce output similar to the following:\n",
    "\n",
    "```python\n",
    "Enter the quantity of t-shirts available:  5\n",
    "Enter the quantity of mugs available:  4\n",
    "Enter the quantity of hats available:  3\n",
    "Enter the quantity of books available:  2\n",
    "Enter the quantity of keychains available:  1\n",
    "Enter the number of customer orders:  2\n",
    "Enter the name of a product that a customer wants to order:  hat\n",
    "Enter the name of a product that a customer wants to order:  keychain\n",
    "\n",
    "Order Statistics:\n",
    "Total Products Ordered: 2\n",
    "Percentage of Unique Products Ordered: 40.0\n",
    "\n",
    "Updated Inventory:\n",
    "t-shirt: 5\n",
    "mug: 4\n",
    "hat: 2\n",
    "book: 2\n",
    "Enter the price of keychain:  5\n",
    "Enter the price of hat:  10\n",
    "Total Price: 15.0\n",
    "\n",
    "```\n"
   ]
  },
  {
   "cell_type": "code",
   "execution_count": 2,
   "id": "6b89782e-6f4d-48d6-837b-7c485b930cbd",
   "metadata": {},
   "outputs": [],
   "source": [
    "# Review your code from the previous exercise and identify areas where you can apply comprehension to simplify and streamline your code\n",
    "\n",
    "def initialize_inventory(products):\n",
    "    inventory = {product: int(input(f'Enter quantity for {product}: ')) for product in products}\n",
    "    return inventory"
   ]
  },
  {
   "cell_type": "code",
   "execution_count": null,
   "id": "76c1ae09-0284-4d75-9ecb-a383f33ed396",
   "metadata": {},
   "outputs": [],
   "source": [
    "inventory = initialize_inventory([\"t-shirt\", \"mug\", \"hat\", \"book\", \"keychain\"])"
   ]
  },
  {
   "cell_type": "code",
   "execution_count": 4,
   "id": "a5384003-914c-4e9b-a8d7-05923b7b5f4a",
   "metadata": {},
   "outputs": [],
   "source": [
    "# Modify the function get_customer_orders so it prompts the user to [[enter the number of customer orders]] \n",
    "# and gathers the product names using a loop and user input. Use comprehension.\n",
    "\n",
    "def get_customer_orders():\n",
    "        order_size = int(input('How many items are we ordering today?: '))\n",
    "        return [input(f'Please, enter name for product number {i+1}: ') for i in range(order_size)]"
   ]
  },
  {
   "cell_type": "code",
   "execution_count": null,
   "id": "65e5fc13-0f92-4dba-b322-240abf5b0a16",
   "metadata": {},
   "outputs": [],
   "source": [
    "customer_orders = get_customer_orders()"
   ]
  },
  {
   "cell_type": "code",
   "execution_count": 6,
   "id": "70df907a-bf17-4422-a0db-502bdd47bc5b",
   "metadata": {},
   "outputs": [],
   "source": [
    "# For each product in customer_orders, prompt the user to enter the price of that product.\n",
    "# Use comprehension to calculate the total price.\n",
    "# Assume that the user can only have 1 unit of each product.\n",
    "\n",
    "def calculate_total_price(customer_orders):\n",
    "    total_price = [float(input(f'Enter price for {product}: ')) for product in customer_orders]\n",
    "    return (f'Total price is: ${sum(total_price)}')"
   ]
  },
  {
   "cell_type": "code",
   "execution_count": null,
   "id": "968664f9-1769-49e8-a31f-2bdf8d78ea18",
   "metadata": {},
   "outputs": [],
   "source": [
    "calculate_total_price(customer_orders)"
   ]
  },
  {
   "cell_type": "code",
   "execution_count": 8,
   "id": "31365943-34e8-43e7-b5cf-75d29bd15712",
   "metadata": {},
   "outputs": [],
   "source": [
    "# Modify the update_inventory function to remove the product from the inventory if its quantity becomes zero after fulfilling the customer orders.\n",
    "# Use comprehension to filter out the products with a quantity of zero from the inventory.\n",
    "\n",
    "def update_inventory(customer_orders, inventory):\n",
    "\n",
    "    for products in customer_orders:\n",
    "        inventory[products] -= 1\n",
    "\n",
    "    return {product: quantity for product, quantity in inventory.items() if quantity > 0}"
   ]
  },
  {
   "cell_type": "code",
   "execution_count": null,
   "id": "66dd409d-2971-4e1c-8d37-2afddcd9afe7",
   "metadata": {},
   "outputs": [],
   "source": [
    "update_inventory(customer_orders, inventory)"
   ]
  },
  {
   "cell_type": "code",
   "execution_count": 10,
   "id": "ca4ece51-fe1e-4971-8325-ecfac936db9a",
   "metadata": {},
   "outputs": [],
   "source": [
    "def calc_order_stats(customer_orders, products):\n",
    "    \n",
    "    total_prod_ordered = len(customer_orders)\n",
    "    perc_uniq_prod = total_prod_ordered / len(products) * 100\n",
    "\n",
    "    return total_prod_ordered, perc_uniq_prod # The returned value here is stored in a Tuple. This is very important!"
   ]
  },
  {
   "cell_type": "code",
   "execution_count": 12,
   "id": "245fa7a7-ab2b-4042-a450-ca40f0455410",
   "metadata": {},
   "outputs": [],
   "source": [
    "def print_order_stats(order_stats):\n",
    "    \n",
    "    print(f' Number of items purchased: {order_stats[0]}') # We use indexing to reach specific values of the last function\n",
    "    print(f'Percentage of inventory purchased: {order_stats[1]}%')"
   ]
  },
  {
   "cell_type": "code",
   "execution_count": 14,
   "id": "c156e180-7d5c-432a-aed5-0399693051f4",
   "metadata": {},
   "outputs": [],
   "source": [
    "def print_updated_inventory(inventory):\n",
    "\n",
    "    print(\"Current inventory is:\")\n",
    "    print()\n",
    "    for key, value in inventory.items():\n",
    "        print(f'{key}: {value}')"
   ]
  },
  {
   "cell_type": "code",
   "execution_count": 26,
   "id": "541a5756-f238-4b39-8dcb-d8c0b395272f",
   "metadata": {},
   "outputs": [],
   "source": [
    "def run_shop():\n",
    "    \n",
    "    products = [\"t-shirt\", \"mug\", \"hat\", \"book\", \"keychain\"] # Given in previous Labs\n",
    "\n",
    "    inventory = initialize_inventory(products) # Store function inside global variable to further use it's returned value\n",
    "    print() # Clean line to aid visibility\n",
    "    customer_orders = get_customer_orders() # Same here, store function in a global variable\n",
    "\n",
    "    total_price = calculate_total_price(customer_orders) # Added total price to the run_shop function\n",
    "    print(total_price)\n",
    "\n",
    "    inventory = update_inventory(customer_orders, inventory) # We store a new function inside the same variable to update it\n",
    "\n",
    "    order_stats = calc_order_stats(customer_orders, products) # Calculate the order stats and store them in the respective variable\n",
    "    print()\n",
    "    print_order_stats(order_stats) # We print it\n",
    "    print()\n",
    "    print_updated_inventory(inventory) # Also print this to FINALLY finish"
   ]
  },
  {
   "cell_type": "code",
   "execution_count": 28,
   "id": "2940fce1-d46a-435f-88f4-abfb682eb739",
   "metadata": {},
   "outputs": [
    {
     "name": "stdin",
     "output_type": "stream",
     "text": [
      "Enter quantity for t-shirt:  10\n",
      "Enter quantity for mug:  10\n",
      "Enter quantity for hat:  1\n",
      "Enter quantity for book:  10\n",
      "Enter quantity for keychain:  10\n"
     ]
    },
    {
     "name": "stdout",
     "output_type": "stream",
     "text": [
      "\n"
     ]
    },
    {
     "name": "stdin",
     "output_type": "stream",
     "text": [
      "How many items are we ordering today?:  3\n",
      "Please, enter name for product number 1:  hat\n",
      "Please, enter name for product number 2:  mug\n",
      "Please, enter name for product number 3:  book\n",
      "Enter price for hat:  24.99\n",
      "Enter price for mug:  12.99\n",
      "Enter price for book:  16.99\n"
     ]
    },
    {
     "name": "stdout",
     "output_type": "stream",
     "text": [
      "Total price is: $54.97\n",
      "\n",
      " Number of items purchased: 3\n",
      "Percentage of inventory purchased: 60.0%\n",
      "\n",
      "Current inventory is:\n",
      "\n",
      "t-shirt: 10\n",
      "mug: 9\n",
      "book: 9\n",
      "keychain: 10\n"
     ]
    }
   ],
   "source": [
    "run_shop()"
   ]
  },
  {
   "cell_type": "code",
   "execution_count": null,
   "id": "20df40df-9ff1-48b6-83a2-f53f0f8a4378",
   "metadata": {},
   "outputs": [],
   "source": []
  }
 ],
 "metadata": {
  "kernelspec": {
   "display_name": "Python 3 (ipykernel)",
   "language": "python",
   "name": "python3"
  },
  "language_info": {
   "codemirror_mode": {
    "name": "ipython",
    "version": 3
   },
   "file_extension": ".py",
   "mimetype": "text/x-python",
   "name": "python",
   "nbconvert_exporter": "python",
   "pygments_lexer": "ipython3",
   "version": "3.12.4"
  }
 },
 "nbformat": 4,
 "nbformat_minor": 5
}
